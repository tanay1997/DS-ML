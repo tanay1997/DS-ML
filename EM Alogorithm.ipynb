{
 "cells": [
  {
   "cell_type": "code",
   "execution_count": 1,
   "metadata": {},
   "outputs": [],
   "source": [
    "import numpy as np\n",
    "k = 3\n",
    "U = np.array([[0.5,4.5], [2.2,1.6],[3,3.5]])\n",
    "X = np.array([[0.5, 4.5],[2.2, 1.5], [3.9, 3.5], [2.1, 1.9], [0.5, 3.2], [0.8, 4.3], [2.7, 1.1], [2.5, 3.5], [2.8, 3.9], [0.1, 4.1]])\n",
    "cov = np.array([np.identity(X.shape[1]), np.identity(X.shape[1]), np.identity(X.shape[1])])\n",
    "p = np.array([1/k, 1/k, 1/k])\n",
    "w = np.zeros((k, X.shape[0]))\n",
    "f = np.zeros((k, X.shape[0]))\n",
    "f1 = np.zeros((k, X.shape[0]))\n",
    "n = np.zeros((X.shape[0]))"
   ]
  },
  {
   "cell_type": "code",
   "execution_count": 2,
   "metadata": {},
   "outputs": [],
   "source": [
    "for d in range(1):\n",
    "    for i in range(k):\n",
    "        for j in range(X.shape[0]):\n",
    "            A = np.matmul(np.linalg.inv(cov[i]), np.transpose(X[j,:] - U[i,:]))\n",
    "            f[i,j] = (np.exp(-(np.matmul(A, X[j,:] - U[i,:]))/2))/(((np.linalg.det(cov[i]))**(0.5))*((2*np.pi)**(X.shape[1]/2)))\n",
    "    \n",
    "    for j in range(X.shape[0]):\n",
    "        n[j] = np.matmul(f[:,j], p) \n",
    "    \n",
    "    for i in range(k):\n",
    "        for j in range(X.shape[0]):\n",
    "            w[i,j] = (f[i,j]*p[i])/(n[j])  \n",
    "    \n",
    "    for i in range(k):\n",
    "        U[i] = np.matmul(w[i], X)/np.sum(w[i])\n",
    "    \n",
    "    Z = np.zeros((k, X.shape[0], X.shape[1]))\n",
    "    for i in range(k):\n",
    "        Z[i] = np.array([X - U[i]])\n",
    "    r = np.zeros((X.shape[0]+1, X.shape[1], X.shape[1]))\n",
    "    cov = np.zeros((k, X.shape[1], X.shape[1]))\n",
    "    \n",
    "    for i in range(k):\n",
    "        for j in range(X.shape[0]):\n",
    "            r[j] = (w[i,j]*(np.matmul(Z[i][j,:].reshape(2,1), np.transpose(Z[i][j,:].reshape(2,1)))))/np.sum(w[i,:])\n",
    "        cov[i]= np.sum(r,axis = 0) \n",
    "        \n",
    "    for i in range(k):\n",
    "        p[i] = np.sum(w[i,:])/w.shape[1]       "
   ]
  },
  {
   "cell_type": "code",
   "execution_count": 3,
   "metadata": {},
   "outputs": [
    {
     "data": {
      "text/plain": [
       "array([[0.55037786, 4.04016951],\n",
       "       [2.30305907, 1.74332438],\n",
       "       [2.8712064 , 3.44305963]])"
      ]
     },
     "execution_count": 3,
     "metadata": {},
     "output_type": "execute_result"
    }
   ],
   "source": [
    "U"
   ]
  },
  {
   "cell_type": "code",
   "execution_count": 4,
   "metadata": {},
   "outputs": [
    {
     "data": {
      "text/plain": [
       "array([[[ 0.23287198, -0.02474452],\n",
       "        [-0.02474452,  0.23947182]],\n",
       "\n",
       "       [[ 0.26330558, -0.12450136],\n",
       "        [-0.12450136,  0.5581009 ]],\n",
       "\n",
       "       [[ 0.71288241,  0.05977917],\n",
       "        [ 0.05977917,  0.43528609]]])"
      ]
     },
     "execution_count": 4,
     "metadata": {},
     "output_type": "execute_result"
    }
   ],
   "source": [
    "cov"
   ]
  },
  {
   "cell_type": "code",
   "execution_count": 5,
   "metadata": {},
   "outputs": [
    {
     "data": {
      "text/plain": [
       "array([0.38217867, 0.30667264, 0.3111487 ])"
      ]
     },
     "execution_count": 5,
     "metadata": {},
     "output_type": "execute_result"
    }
   ],
   "source": [
    "p"
   ]
  },
  {
   "cell_type": "code",
   "execution_count": 10,
   "metadata": {},
   "outputs": [
    {
     "data": {
      "image/png": "[encoded data removed]",
      "text/plain": [
       "<Figure size 432x288 with 1 Axes>"
      ]
     },
     "metadata": {
      "needs_background": "light"
     },
     "output_type": "display_data"
    }
   ],
   "source": [
    "import pandas as pd\n",
    "import matplotlib.pyplot as plt\n",
    "X1 = [0.5, 2.2, 3.9, 2.1, 0.5, 0.8, 2.7, 2.5, 2.8, 0.1, 0.55037786, 2.30305907, 2.8712064, 0.5, 2.2, 3]\n",
    "X2 = [4.5, 1.5, 3.5, 1.9, 3.2, 4.3, 1.1, 3.5, 3.9, 4.1, 4.04016951, 1.74332438, 3.44305963, 4.5, 1.6, 3.5]\n",
    "color =['D', 'D', 'D', 'D', 'D', 'D','D', 'D', 'D','D', 'E', 'E', 'E', 'F', 'F', 'F']\n",
    "\n",
    "df = pd.DataFrame(dict(X1=X1, X2=X2, color=color))\n",
    "\n",
    "fig, ax = plt.subplots()\n",
    "\n",
    "colors = {'D':'red', 'E':'blue','F':'green'}\n",
    "\n",
    "ax.scatter(df['X1'], df['X2'], c=df['color'].apply(lambda x: colors[x]))\n",
    "\n",
    "plt.xlabel('X1')\n",
    "plt.ylabel('X2')\n",
    "plt.show()\n"
   ]
  },
  {
   "cell_type": "code",
   "execution_count": null,
   "metadata": {},
   "outputs": [],
   "source": []
  }
 ],
 "metadata": {
  "kernelspec": {
   "display_name": "Python 3",
   "language": "python",
   "name": "python3"
  },
  "language_info": {
   "codemirror_mode": {
    "name": "ipython",
    "version": 3
   },
   "file_extension": ".py",
   "mimetype": "text/x-python",
   "name": "python",
   "nbconvert_exporter": "python",
   "pygments_lexer": "ipython3",
   "version": "3.6.4"
  }
 },
 "nbformat": 4,
 "nbformat_minor": 2
}
